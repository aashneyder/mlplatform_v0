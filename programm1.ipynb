{
 "cells": [
  {
   "cell_type": "code",
   "execution_count": 6,
   "id": "79516ae3-672b-432b-8e9e-f0c894d84ad5",
   "metadata": {},
   "outputs": [],
   "source": [
    "from requests import post, get\n",
    "from requests.models import Response\n",
    "from mlserver.codecs.string import StringRequestCodec\n",
    "from mlserver.types import InferenceResponse, InferenceRequest\n",
    "import json"
   ]
  },
  {
   "cell_type": "code",
   "execution_count": 7,
   "id": "3e03dd34-67bc-44ea-887a-fde9fccd2939",
   "metadata": {},
   "outputs": [],
   "source": [
    "def create_request_to_mlserver_model (data: dict, model_name: str) -> dict:\n",
    "    j_input = json.dumps(data)\n",
    "    dict_inference_request = {\n",
    "        \"inputs\": [\n",
    "            {\n",
    "              \"name\": model_name,\n",
    "              \"shape\": [len(j_input)],\n",
    "              \"datatype\": \"BYTES\",\n",
    "              \"data\": j_input,\n",
    "            }\n",
    "          ]\n",
    "    }\n",
    "    print(f\"Type dict_inference_request {type(dict_inference_request)}\")\n",
    "    return dict_inference_request"
   ]
  },
  {
   "cell_type": "code",
   "execution_count": 9,
   "id": "fcc5df98-8cd1-4b68-a901-8332ac4dce53",
   "metadata": {},
   "outputs": [
    {
     "name": "stdout",
     "output_type": "stream",
     "text": [
      "Type dict_inference_request <class 'dict'>\n"
     ]
    },
    {
     "data": {
      "text/plain": [
       "{'inputs': [{'name': 'work_model1',\n",
       "   'shape': [9],\n",
       "   'datatype': 'BYTES',\n",
       "   'data': '{\"a\": 10}'}]}"
      ]
     },
     "execution_count": 9,
     "metadata": {},
     "output_type": "execute_result"
    }
   ],
   "source": [
    "d = {\"a\": 10}\n",
    "ip = \"158.160.52.53\"\n",
    "model_name = \"work_model1\"\n",
    "host = f\"http://{ip}:8000\"\n",
    "test_inf_resp = create_request_to_mlserver_model(d, model_name)\n",
    "test_inf_resp"
   ]
  },
  {
   "cell_type": "code",
   "execution_count": 10,
   "id": "c3f650bf-99be-4731-a764-02b1b3240c79",
   "metadata": {},
   "outputs": [],
   "source": [
    "def send_request_to_mlserver_model(inference_request: dict, host: str, model_name: str) -> Response:\n",
    "    endpoint = f\"{host}/v2/models/{model_name}/infer\"\n",
    "    headers = {\"Content-Type\": \"application/json\"}\n",
    "    post_response = post(endpoint, json=inference_request, headers=headers)\n",
    "    print(f\"Type post_response {type(post_response)}\")\n",
    "    return post_response"
   ]
  },
  {
   "cell_type": "code",
   "execution_count": 11,
   "id": "1d1bc82e-a884-4f5f-9c13-4f811d17968d",
   "metadata": {},
   "outputs": [
    {
     "name": "stdout",
     "output_type": "stream",
     "text": [
      "Type post_response <class 'requests.models.Response'>\n"
     ]
    },
    {
     "data": {
      "text/plain": [
       "<Response [200]>"
      ]
     },
     "execution_count": 11,
     "metadata": {},
     "output_type": "execute_result"
    }
   ],
   "source": [
    "model_answer = send_request_to_mlserver_model(test_inf_resp, host, model_name)\n",
    "model_answer"
   ]
  },
  {
   "cell_type": "code",
   "execution_count": 12,
   "id": "af64a539-9730-48f2-846e-aad8b0ab499d",
   "metadata": {},
   "outputs": [],
   "source": [
    "def decode_answer(post_response: Response) -> dict:\n",
    "    print(f\"Response (от POST запроса) для decode_answer: {Response}\")\n",
    "    inf_resp = InferenceResponse.parse_raw(post_response.text)\n",
    "    print(f\"inf_resp в decode_answer: {inf_resp}\")\n",
    "    raw_json = StringRequestCodec.decode_response(inf_resp)\n",
    "    print(f\"raw_json в decode_answer: {raw_json}\")\n",
    "    res = json.loads(raw_json[0])\n",
    "    print(f\"raw_json[0] = {raw_json[0]}\")\n",
    "    return res"
   ]
  },
  {
   "cell_type": "code",
   "execution_count": 13,
   "id": "457cd390-66d4-45ab-943b-b21791228061",
   "metadata": {},
   "outputs": [
    {
     "name": "stdout",
     "output_type": "stream",
     "text": [
      "Response (от POST запроса) для decode_answer: <class 'requests.models.Response'>\n",
      "inf_resp в decode_answer: model_name='work_model1' model_version=None id='a0b56624-4560-4323-9c1d-31d25bc3873e' parameters=Parameters(content_type='dict', headers=None) outputs=[ResponseOutput(name='output', shape=[1], datatype='BYTES', parameters=Parameters(content_type='np', headers=None), data=TensorData(__root__=['{\"result\": 20}']))]\n",
      "raw_json в decode_answer: ['{\"result\": 20}']\n",
      "raw_json[0] = {\"result\": 20}\n"
     ]
    },
    {
     "data": {
      "text/plain": [
       "{'result': 20}"
      ]
     },
     "execution_count": 13,
     "metadata": {},
     "output_type": "execute_result"
    }
   ],
   "source": [
    "output = decode_answer(model_answer)\n",
    "output"
   ]
  }
 ],
 "metadata": {
  "kernelspec": {
   "display_name": "Python 3 (ipykernel)",
   "language": "python",
   "name": "python3"
  },
  "language_info": {
   "codemirror_mode": {
    "name": "ipython",
    "version": 3
   },
   "file_extension": ".py",
   "mimetype": "text/x-python",
   "name": "python",
   "nbconvert_exporter": "python",
   "pygments_lexer": "ipython3",
   "version": "3.10.12"
  }
 },
 "nbformat": 4,
 "nbformat_minor": 5
}
